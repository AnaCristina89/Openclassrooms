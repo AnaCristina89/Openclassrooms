{
 "cells": [
  {
   "cell_type": "code",
   "execution_count": 1,
   "metadata": {},
   "outputs": [],
   "source": [
    "import pandas as pd # On importe la librairie Pandas, que l'on surnomme 'pd'\n",
    "import numpy as np\n",
    "import re"
   ]
  },
  {
   "cell_type": "code",
   "execution_count": 2,
   "metadata": {},
   "outputs": [],
   "source": [
    "def lower_case(value): \n",
    "    print('Voici la valeur que je traite:', value)\n",
    "    return value.lower()"
   ]
  },
  {
   "cell_type": "code",
   "execution_count": 3,
   "metadata": {},
   "outputs": [
    {
     "data": {
      "text/html": [
       "<div>\n",
       "<style scoped>\n",
       "    .dataframe tbody tr th:only-of-type {\n",
       "        vertical-align: middle;\n",
       "    }\n",
       "\n",
       "    .dataframe tbody tr th {\n",
       "        vertical-align: top;\n",
       "    }\n",
       "\n",
       "    .dataframe thead th {\n",
       "        text-align: right;\n",
       "    }\n",
       "</style>\n",
       "<table border=\"1\" class=\"dataframe\">\n",
       "  <thead>\n",
       "    <tr style=\"text-align: right;\">\n",
       "      <th></th>\n",
       "      <th>prenom</th>\n",
       "      <th>email</th>\n",
       "      <th>date_naissance</th>\n",
       "      <th>pays</th>\n",
       "      <th>taille</th>\n",
       "    </tr>\n",
       "  </thead>\n",
       "  <tbody>\n",
       "    <tr>\n",
       "      <th>0</th>\n",
       "      <td>Leila</td>\n",
       "      <td>leila@example.com</td>\n",
       "      <td>23/01/1990</td>\n",
       "      <td>France</td>\n",
       "      <td>1.49m</td>\n",
       "    </tr>\n",
       "    <tr>\n",
       "      <th>1</th>\n",
       "      <td>Samuel</td>\n",
       "      <td>samuel_329@example.com</td>\n",
       "      <td>20/09/2001</td>\n",
       "      <td>NaN</td>\n",
       "      <td>1.67m</td>\n",
       "    </tr>\n",
       "    <tr>\n",
       "      <th>2</th>\n",
       "      <td>Radia</td>\n",
       "      <td>choupipoune@supermail.eu</td>\n",
       "      <td>12 sept. 1984</td>\n",
       "      <td>Côte d'ivoire</td>\n",
       "      <td>153cm</td>\n",
       "    </tr>\n",
       "    <tr>\n",
       "      <th>3</th>\n",
       "      <td>Marc</td>\n",
       "      <td>marco23@example.com, mc23@supermail.eu</td>\n",
       "      <td>10/02/1978</td>\n",
       "      <td>France</td>\n",
       "      <td>1.65m</td>\n",
       "    </tr>\n",
       "    <tr>\n",
       "      <th>4</th>\n",
       "      <td>Heri</td>\n",
       "      <td>helloworld@supermail.eu</td>\n",
       "      <td>05/03/2008</td>\n",
       "      <td>Madagascar</td>\n",
       "      <td>1.34m</td>\n",
       "    </tr>\n",
       "  </tbody>\n",
       "</table>\n",
       "</div>"
      ],
      "text/plain": [
       "   prenom                                   email date_naissance  \\\n",
       "0   Leila                       leila@example.com     23/01/1990   \n",
       "1  Samuel                  samuel_329@example.com     20/09/2001   \n",
       "2   Radia                choupipoune@supermail.eu  12 sept. 1984   \n",
       "3    Marc  marco23@example.com, mc23@supermail.eu     10/02/1978   \n",
       "4    Heri                 helloworld@supermail.eu     05/03/2008   \n",
       "\n",
       "            pays taille  \n",
       "0         France  1.49m  \n",
       "1            NaN  1.67m  \n",
       "2  Côte d'ivoire  153cm  \n",
       "3         France  1.65m  \n",
       "4     Madagascar  1.34m  "
      ]
     },
     "execution_count": 3,
     "metadata": {},
     "output_type": "execute_result"
    }
   ],
   "source": [
    "data = pd.read_csv('personnes.csv', sep=',')\n",
    "data.head()"
   ]
  },
  {
   "cell_type": "markdown",
   "metadata": {},
   "source": [
    "Il reste encore à savoir comment remplir  nouvelle_colonne. En fait, elle sera calculée à partir de  nom_colonne. Ce qu'il nous faut, c'est parcourir chaque valeur de  nom_colonne, vérifier si elle est correcte ou pas, et la corriger si besoin.\n",
    "\n",
    "Pour cela, nous utilisons la méthode  apply. C'est une méthode qui est appelée sur une colonne du dataframe, et qui permet de parcourir toutes ses valeurs. Alternativement, on peut utiliser la méthode  map, qui lui est (à peu près) équivalente. Pour chaque valeur, elle applique une fonction destinée à la vérification/correction"
   ]
  },
  {
   "cell_type": "code",
   "execution_count": 4,
   "metadata": {},
   "outputs": [
    {
     "name": "stdout",
     "output_type": "stream",
     "text": [
      "Voici la valeur que je traite: Leila\n",
      "Voici la valeur que je traite: Samuel\n",
      "Voici la valeur que je traite: Radia\n",
      "Voici la valeur que je traite: Marc\n",
      "Voici la valeur que je traite: Heri\n",
      "Voici la valeur que je traite: Hanna\n",
      "Voici la valeur que je traite: samuël\n",
      "['leila' 'samuel' 'radia' 'marc' 'heri' 'hanna' 'samuël']\n"
     ]
    }
   ],
   "source": [
    "prenom_min = data['prenom'].apply(lower_case)\n",
    "prenom_min = prenom_min.values\n",
    "print(prenom_min)\n",
    "data['prenom_min'] = prenom_min"
   ]
  },
  {
   "cell_type": "code",
   "execution_count": 5,
   "metadata": {},
   "outputs": [
    {
     "data": {
      "text/html": [
       "<div>\n",
       "<style scoped>\n",
       "    .dataframe tbody tr th:only-of-type {\n",
       "        vertical-align: middle;\n",
       "    }\n",
       "\n",
       "    .dataframe tbody tr th {\n",
       "        vertical-align: top;\n",
       "    }\n",
       "\n",
       "    .dataframe thead th {\n",
       "        text-align: right;\n",
       "    }\n",
       "</style>\n",
       "<table border=\"1\" class=\"dataframe\">\n",
       "  <thead>\n",
       "    <tr style=\"text-align: right;\">\n",
       "      <th></th>\n",
       "      <th>prenom</th>\n",
       "      <th>email</th>\n",
       "      <th>date_naissance</th>\n",
       "      <th>pays</th>\n",
       "      <th>taille</th>\n",
       "      <th>prenom_min</th>\n",
       "    </tr>\n",
       "  </thead>\n",
       "  <tbody>\n",
       "    <tr>\n",
       "      <th>0</th>\n",
       "      <td>Leila</td>\n",
       "      <td>leila@example.com</td>\n",
       "      <td>23/01/1990</td>\n",
       "      <td>France</td>\n",
       "      <td>1.49m</td>\n",
       "      <td>leila</td>\n",
       "    </tr>\n",
       "    <tr>\n",
       "      <th>1</th>\n",
       "      <td>Samuel</td>\n",
       "      <td>samuel_329@example.com</td>\n",
       "      <td>20/09/2001</td>\n",
       "      <td>NaN</td>\n",
       "      <td>1.67m</td>\n",
       "      <td>samuel</td>\n",
       "    </tr>\n",
       "    <tr>\n",
       "      <th>2</th>\n",
       "      <td>Radia</td>\n",
       "      <td>choupipoune@supermail.eu</td>\n",
       "      <td>12 sept. 1984</td>\n",
       "      <td>Côte d'ivoire</td>\n",
       "      <td>153cm</td>\n",
       "      <td>radia</td>\n",
       "    </tr>\n",
       "    <tr>\n",
       "      <th>3</th>\n",
       "      <td>Marc</td>\n",
       "      <td>marco23@example.com, mc23@supermail.eu</td>\n",
       "      <td>10/02/1978</td>\n",
       "      <td>France</td>\n",
       "      <td>1.65m</td>\n",
       "      <td>marc</td>\n",
       "    </tr>\n",
       "    <tr>\n",
       "      <th>4</th>\n",
       "      <td>Heri</td>\n",
       "      <td>helloworld@supermail.eu</td>\n",
       "      <td>05/03/2008</td>\n",
       "      <td>Madagascar</td>\n",
       "      <td>1.34m</td>\n",
       "      <td>heri</td>\n",
       "    </tr>\n",
       "    <tr>\n",
       "      <th>5</th>\n",
       "      <td>Hanna</td>\n",
       "      <td>hanna2019@supermail.eu</td>\n",
       "      <td>01/01/1970</td>\n",
       "      <td>24</td>\n",
       "      <td>3.45m</td>\n",
       "      <td>hanna</td>\n",
       "    </tr>\n",
       "    <tr>\n",
       "      <th>6</th>\n",
       "      <td>samuël</td>\n",
       "      <td>samuel_329@example.com</td>\n",
       "      <td>NaN</td>\n",
       "      <td>Bénin</td>\n",
       "      <td>1.45m</td>\n",
       "      <td>samuël</td>\n",
       "    </tr>\n",
       "  </tbody>\n",
       "</table>\n",
       "</div>"
      ],
      "text/plain": [
       "   prenom                                   email date_naissance  \\\n",
       "0   Leila                       leila@example.com     23/01/1990   \n",
       "1  Samuel                  samuel_329@example.com     20/09/2001   \n",
       "2   Radia                choupipoune@supermail.eu  12 sept. 1984   \n",
       "3    Marc  marco23@example.com, mc23@supermail.eu     10/02/1978   \n",
       "4    Heri                 helloworld@supermail.eu     05/03/2008   \n",
       "5   Hanna                  hanna2019@supermail.eu     01/01/1970   \n",
       "6  samuël                  samuel_329@example.com            NaN   \n",
       "\n",
       "            pays taille prenom_min  \n",
       "0         France  1.49m      leila  \n",
       "1            NaN  1.67m     samuel  \n",
       "2  Côte d'ivoire  153cm      radia  \n",
       "3         France  1.65m       marc  \n",
       "4     Madagascar  1.34m       heri  \n",
       "5             24  3.45m      hanna  \n",
       "6          Bénin  1.45m     samuël  "
      ]
     },
     "execution_count": 5,
     "metadata": {},
     "output_type": "execute_result"
    }
   ],
   "source": [
    "data"
   ]
  },
  {
   "cell_type": "markdown",
   "metadata": {},
   "source": [
    "### Traiter les pays"
   ]
  },
  {
   "cell_type": "markdown",
   "metadata": {},
   "source": [
    "Ici, si le pays présent dans la variable  country  n'est pas présent dans la liste  VALID_COUNTRIES,  on affiche le message des lignes 6 et 7. Ensuite, on retourne  np.NaN, qui est la valeur utilisée par les librairies  Numpy  et  Pandas  pour spécifier qu'une valeur est inconnue. C'est en quelque sorte un équivalent de  None."
   ]
  },
  {
   "cell_type": "code",
   "execution_count": 6,
   "metadata": {},
   "outputs": [],
   "source": [
    "VALID_COUNTRIES = ['France', 'Côte d\\'ivoire', 'Madagascar', 'Bénin', 'Allemagne'\n",
    "                  , 'USA']\n",
    "                  \n",
    "def check_country(country):\n",
    "    if country not in VALID_COUNTRIES:\n",
    "        print(' - \"{}\" n\\'est pas un pays valide, nous le supprimons.' \\\n",
    "            .format(country))\n",
    "        return np.NaN\n",
    "    return country"
   ]
  },
  {
   "cell_type": "markdown",
   "metadata": {},
   "source": [
    "### Traiter les emails\n",
    "\n",
    "Lorsqu'il y a plusieurs emails par ligne, ceux-ci sont séparés par des virgules. Nous séparons donc la chaîne de caractère de la variable  string  selon les virgules grâce à la méthode split (ligne 2). Le résultat est donc une liste avec autant d'éléments que d'adresses email: cette liste est placée dans la variable  parts.\n",
    "\n",
    "Comme  parts  contient au moins 1 élément, on place celui-ci dans la variable  first_part. Ensuite, on compte le nombre d'éléments que contient  parts  grâce à la fonction  len. S'il y en a au moins 2, alors on affiche le message des lignes 5 et 6. Finalement, on retourne  first_part, qui contient le premier email !"
   ]
  },
  {
   "cell_type": "code",
   "execution_count": 8,
   "metadata": {},
   "outputs": [],
   "source": [
    "def first(string):\n",
    "    parts = string.split(',')\n",
    "    first_part = parts[0]\n",
    "    if len(parts) >= 2:\n",
    "        print(' - Il y a plusieurs parties dans \"{}\", ne gardons que {}.'\\\n",
    "            .format(parts,first_part))  \n",
    "    return first_part"
   ]
  },
  {
   "cell_type": "markdown",
   "metadata": {},
   "source": [
    "### Traiter les tailles\n",
    "Nous aurons ici 2 fonctions :  convert_height, qui convertira les chaînes de caractères de type  \"1,34 m\"  en nombre décimal, ainsi que  fill_height, qui remplacera les valeurs manquantes par la moyenne des tailles de l'échantillon.\n",
    "La première fonction est un peu plus élaborée. Vous pouvez soit lui accorder une confiance aveugle, soit tenter de percer son mystère dans la section Aller plus loin en bas de ce chapitre ;).\n",
    "\n",
    "Passons à la seconde fonction. Ah ! elle prend 2 paramètres :  height  et  replacement. Le premier est la hauteur, comme d'habitude. Le second est la valeur que nous devrons renvoyer en cas de valeur manquante. La ligne 11 vérifie si la valeur de  height  est manquante (None, NaN ou Nat). Si c'est le cas, on retourne la valeur de remplacement (ligne 13), sinon, on retourne  height."
   ]
  },
  {
   "cell_type": "code",
   "execution_count": 9,
   "metadata": {},
   "outputs": [],
   "source": [
    "def convert_height(height):\n",
    "    found = re.search('\\d\\.\\d{2}m', height)\n",
    "    if found is None:\n",
    "        print('{} n\\'est pas au bon format. Il sera ignoré.'.format(height))\n",
    "        return np.NaN\n",
    "    else:\n",
    "        value = height[:-1] # on enlève le dernier caractère, qui est 'm'\n",
    "        return float(value)\n",
    "\n",
    "def fill_height(height, replacement):\n",
    "    if pd.isnull(height):\n",
    "        print('Imputation par la moyenne : {}'.format(replacement))\n",
    "        return replacement\n",
    "    return height"
   ]
  },
  {
   "cell_type": "markdown",
   "metadata": {},
   "source": [
    "### Appliquer les fonctions"
   ]
  },
  {
   "cell_type": "code",
   "execution_count": 10,
   "metadata": {},
   "outputs": [
    {
     "name": "stdout",
     "output_type": "stream",
     "text": [
      " - Il y a plusieurs parties dans \"['marco23@example.com', ' mc23@supermail.eu']\", ne gardons que marco23@example.com.\n",
      " - \"nan\" n'est pas un pays valide, nous le supprimons.\n",
      " - \"24\" n'est pas un pays valide, nous le supprimons.\n",
      "153cm n'est pas au bon format. Il sera ignoré.\n",
      "Imputation par la moyenne : 1.52\n",
      "Imputation par la moyenne : 1.52\n"
     ]
    }
   ],
   "source": [
    "data['email'] = data['email'].apply(first)\n",
    "data['pays'] = data['pays'].apply(check_country)\n",
    "data['taille'] = [convert_height(t) for t in data['taille']]\n",
    "data['taille'] = [t if t<3 else np.NaN for t in data['taille']]\n",
    "mean_height = data['taille'].mean()\n",
    "data['taille'] = [fill_height(t, mean_height) for t in data['taille']]\n",
    "data['date_naissance'] = pd.to_datetime(data['date_naissance'], \n",
    "                                           format='%d/%m/%Y', errors='coerce')\n"
   ]
  },
  {
   "cell_type": "code",
   "execution_count": 11,
   "metadata": {},
   "outputs": [
    {
     "data": {
      "text/html": [
       "<div>\n",
       "<style scoped>\n",
       "    .dataframe tbody tr th:only-of-type {\n",
       "        vertical-align: middle;\n",
       "    }\n",
       "\n",
       "    .dataframe tbody tr th {\n",
       "        vertical-align: top;\n",
       "    }\n",
       "\n",
       "    .dataframe thead th {\n",
       "        text-align: right;\n",
       "    }\n",
       "</style>\n",
       "<table border=\"1\" class=\"dataframe\">\n",
       "  <thead>\n",
       "    <tr style=\"text-align: right;\">\n",
       "      <th></th>\n",
       "      <th>prenom</th>\n",
       "      <th>email</th>\n",
       "      <th>date_naissance</th>\n",
       "      <th>pays</th>\n",
       "      <th>taille</th>\n",
       "      <th>prenom_min</th>\n",
       "    </tr>\n",
       "  </thead>\n",
       "  <tbody>\n",
       "    <tr>\n",
       "      <th>0</th>\n",
       "      <td>Leila</td>\n",
       "      <td>leila@example.com</td>\n",
       "      <td>1990-01-23</td>\n",
       "      <td>France</td>\n",
       "      <td>1.49</td>\n",
       "      <td>leila</td>\n",
       "    </tr>\n",
       "    <tr>\n",
       "      <th>1</th>\n",
       "      <td>Samuel</td>\n",
       "      <td>samuel_329@example.com</td>\n",
       "      <td>2001-09-20</td>\n",
       "      <td>NaN</td>\n",
       "      <td>1.67</td>\n",
       "      <td>samuel</td>\n",
       "    </tr>\n",
       "    <tr>\n",
       "      <th>2</th>\n",
       "      <td>Radia</td>\n",
       "      <td>choupipoune@supermail.eu</td>\n",
       "      <td>NaT</td>\n",
       "      <td>Côte d'ivoire</td>\n",
       "      <td>1.52</td>\n",
       "      <td>radia</td>\n",
       "    </tr>\n",
       "    <tr>\n",
       "      <th>3</th>\n",
       "      <td>Marc</td>\n",
       "      <td>marco23@example.com</td>\n",
       "      <td>1978-02-10</td>\n",
       "      <td>France</td>\n",
       "      <td>1.65</td>\n",
       "      <td>marc</td>\n",
       "    </tr>\n",
       "    <tr>\n",
       "      <th>4</th>\n",
       "      <td>Heri</td>\n",
       "      <td>helloworld@supermail.eu</td>\n",
       "      <td>2008-03-05</td>\n",
       "      <td>Madagascar</td>\n",
       "      <td>1.34</td>\n",
       "      <td>heri</td>\n",
       "    </tr>\n",
       "    <tr>\n",
       "      <th>5</th>\n",
       "      <td>Hanna</td>\n",
       "      <td>hanna2019@supermail.eu</td>\n",
       "      <td>1970-01-01</td>\n",
       "      <td>NaN</td>\n",
       "      <td>1.52</td>\n",
       "      <td>hanna</td>\n",
       "    </tr>\n",
       "    <tr>\n",
       "      <th>6</th>\n",
       "      <td>samuël</td>\n",
       "      <td>samuel_329@example.com</td>\n",
       "      <td>NaT</td>\n",
       "      <td>Bénin</td>\n",
       "      <td>1.45</td>\n",
       "      <td>samuël</td>\n",
       "    </tr>\n",
       "  </tbody>\n",
       "</table>\n",
       "</div>"
      ],
      "text/plain": [
       "   prenom                     email date_naissance           pays  taille  \\\n",
       "0   Leila         leila@example.com     1990-01-23         France    1.49   \n",
       "1  Samuel    samuel_329@example.com     2001-09-20            NaN    1.67   \n",
       "2   Radia  choupipoune@supermail.eu            NaT  Côte d'ivoire    1.52   \n",
       "3    Marc       marco23@example.com     1978-02-10         France    1.65   \n",
       "4    Heri   helloworld@supermail.eu     2008-03-05     Madagascar    1.34   \n",
       "5   Hanna    hanna2019@supermail.eu     1970-01-01            NaN    1.52   \n",
       "6  samuël    samuel_329@example.com            NaT          Bénin    1.45   \n",
       "\n",
       "  prenom_min  \n",
       "0      leila  \n",
       "1     samuel  \n",
       "2      radia  \n",
       "3       marc  \n",
       "4       heri  \n",
       "5      hanna  \n",
       "6     samuël  "
      ]
     },
     "execution_count": 11,
     "metadata": {},
     "output_type": "execute_result"
    }
   ],
   "source": [
    "data"
   ]
  },
  {
   "cell_type": "code",
   "execution_count": null,
   "metadata": {},
   "outputs": [],
   "source": []
  }
 ],
 "metadata": {
  "kernelspec": {
   "display_name": "Python 3",
   "language": "python",
   "name": "python3"
  },
  "language_info": {
   "codemirror_mode": {
    "name": "ipython",
    "version": 3
   },
   "file_extension": ".py",
   "mimetype": "text/x-python",
   "name": "python",
   "nbconvert_exporter": "python",
   "pygments_lexer": "ipython3",
   "version": "3.8.3"
  }
 },
 "nbformat": 4,
 "nbformat_minor": 4
}

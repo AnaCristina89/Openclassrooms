{
 "cells": [
  {
   "cell_type": "markdown",
   "metadata": {},
   "source": [
    "## Describe and clean data set"
   ]
  },
  {
   "cell_type": "code",
   "execution_count": 1,
   "metadata": {},
   "outputs": [],
   "source": [
    "import pandas as pd"
   ]
  },
  {
   "cell_type": "code",
   "execution_count": 2,
   "metadata": {},
   "outputs": [],
   "source": [
    "data = pd.read_csv(\"code/analyse/operations.csv\", parse_dates=[1,2], sep=',')"
   ]
  },
  {
   "cell_type": "code",
   "execution_count": 3,
   "metadata": {},
   "outputs": [
    {
     "data": {
      "text/html": [
       "<div>\n",
       "<style scoped>\n",
       "    .dataframe tbody tr th:only-of-type {\n",
       "        vertical-align: middle;\n",
       "    }\n",
       "\n",
       "    .dataframe tbody tr th {\n",
       "        vertical-align: top;\n",
       "    }\n",
       "\n",
       "    .dataframe thead th {\n",
       "        text-align: right;\n",
       "    }\n",
       "</style>\n",
       "<table border=\"1\" class=\"dataframe\">\n",
       "  <thead>\n",
       "    <tr style=\"text-align: right;\">\n",
       "      <th></th>\n",
       "      <th>identifiant_transaction</th>\n",
       "      <th>date_operation</th>\n",
       "      <th>date_valeur</th>\n",
       "      <th>libelle</th>\n",
       "      <th>debit</th>\n",
       "      <th>credit</th>\n",
       "      <th>solde</th>\n",
       "    </tr>\n",
       "  </thead>\n",
       "  <tbody>\n",
       "    <tr>\n",
       "      <th>0</th>\n",
       "      <td>242</td>\n",
       "      <td>2023-10-06</td>\n",
       "      <td>2023-10-06</td>\n",
       "      <td>FORFAIT COMPTE SUPERBANK XX XX XX XX</td>\n",
       "      <td>-1.92</td>\n",
       "      <td>NaN</td>\n",
       "      <td>2513.79</td>\n",
       "    </tr>\n",
       "    <tr>\n",
       "      <th>1</th>\n",
       "      <td>25</td>\n",
       "      <td>2023-10-06</td>\n",
       "      <td>2023-10-06</td>\n",
       "      <td>CARTE XX XX CHEZ LUC XX</td>\n",
       "      <td>-10.00</td>\n",
       "      <td>NaN</td>\n",
       "      <td>2529.29</td>\n",
       "    </tr>\n",
       "    <tr>\n",
       "      <th>2</th>\n",
       "      <td>69</td>\n",
       "      <td>2023-10-06</td>\n",
       "      <td>2023-10-06</td>\n",
       "      <td>PRELEVEMENT XX TELEPHONE XX XX</td>\n",
       "      <td>-13.58</td>\n",
       "      <td>NaN</td>\n",
       "      <td>2515.71</td>\n",
       "    </tr>\n",
       "    <tr>\n",
       "      <th>3</th>\n",
       "      <td>299</td>\n",
       "      <td>2023-10-05</td>\n",
       "      <td>2023-10-05</td>\n",
       "      <td>CARTE XX XX XX XX XX XX</td>\n",
       "      <td>-10.64</td>\n",
       "      <td>NaN</td>\n",
       "      <td>2539.29</td>\n",
       "    </tr>\n",
       "    <tr>\n",
       "      <th>4</th>\n",
       "      <td>45</td>\n",
       "      <td>2023-10-05</td>\n",
       "      <td>2023-10-05</td>\n",
       "      <td>CARTE XX XX XX XX</td>\n",
       "      <td>-4.80</td>\n",
       "      <td>NaN</td>\n",
       "      <td>2549.93</td>\n",
       "    </tr>\n",
       "  </tbody>\n",
       "</table>\n",
       "</div>"
      ],
      "text/plain": [
       "   identifiant_transaction date_operation date_valeur  \\\n",
       "0                      242     2023-10-06  2023-10-06   \n",
       "1                       25     2023-10-06  2023-10-06   \n",
       "2                       69     2023-10-06  2023-10-06   \n",
       "3                      299     2023-10-05  2023-10-05   \n",
       "4                       45     2023-10-05  2023-10-05   \n",
       "\n",
       "                                libelle  debit  credit    solde  \n",
       "0  FORFAIT COMPTE SUPERBANK XX XX XX XX  -1.92     NaN  2513.79  \n",
       "1               CARTE XX XX CHEZ LUC XX -10.00     NaN  2529.29  \n",
       "2        PRELEVEMENT XX TELEPHONE XX XX -13.58     NaN  2515.71  \n",
       "3               CARTE XX XX XX XX XX XX -10.64     NaN  2539.29  \n",
       "4                     CARTE XX XX XX XX  -4.80     NaN  2549.93  "
      ]
     },
     "execution_count": 3,
     "metadata": {},
     "output_type": "execute_result"
    }
   ],
   "source": [
    "data.head()"
   ]
  },
  {
   "cell_type": "code",
   "execution_count": 4,
   "metadata": {},
   "outputs": [],
   "source": [
    "data.columns = ['identifiant_transaction','date_operation','date_valeur',\n",
    "                'libelle','debit','credit','solde']"
   ]
  },
  {
   "cell_type": "code",
   "execution_count": 5,
   "metadata": {},
   "outputs": [
    {
     "data": {
      "text/plain": [
       "(308, 7)"
      ]
     },
     "execution_count": 5,
     "metadata": {},
     "output_type": "execute_result"
    }
   ],
   "source": [
    "data.shape"
   ]
  },
  {
   "cell_type": "markdown",
   "metadata": {},
   "source": [
    "### Détecter les opérations fréquentes"
   ]
  },
  {
   "cell_type": "code",
   "execution_count": 6,
   "metadata": {},
   "outputs": [
    {
     "name": "stdout",
     "output_type": "stream",
     "text": [
      "('XX', 1428)\n",
      "('CARTE', 247)\n",
      "('VIREMENT', 29)\n",
      "('LES', 20)\n",
      "('ANCIENS', 20)\n",
      "('ROBINSON', 20)\n",
      "('CHEZ', 16)\n",
      "('LUC', 16)\n",
      "('LA', 16)\n",
      "(\"L'EPICERIE\", 16)\n",
      "('DEMBAS', 16)\n",
      "('TOUPTIPRI', 12)\n",
      "('CCNCF', 9)\n",
      "('RETRAIT', 9)\n",
      "('PRELEVEMENT', 8)\n",
      "('RAPT', 8)\n",
      "('FORFAIT', 7)\n",
      "('COMPTE', 7)\n",
      "('SUPERBANK', 7)\n",
      "('TELEPHONE', 7)\n",
      "('DON', 7)\n",
      "('LOUVE', 7)\n",
      "('PERMANENT', 6)\n",
      "('LOYER', 6)\n",
      "('VELOC', 4)\n"
     ]
    }
   ],
   "source": [
    "from collections import Counter\n",
    "\n",
    "def most_common_words(labels):\n",
    "    words = []\n",
    "    for lab in labels:\n",
    "        words += lab.split(\" \")\n",
    "    counter = Counter(words)\n",
    "    for word in counter.most_common(100):\n",
    "        print(word)\n",
    "\n",
    "most_common_words(data['libelle'].values)"
   ]
  },
  {
   "cell_type": "code",
   "execution_count": 7,
   "metadata": {},
   "outputs": [
    {
     "data": {
      "text/plain": [
       "CARTE XX XX XX XX XX                            68\n",
       "CARTE XX XX XX XX                               43\n",
       "CARTE XX XX XX XX XX XX                         35\n",
       "CARTE XX XX LES ANCIENS ROBINSON XX             20\n",
       "CARTE XX XX L'EPICERIE DEMBAS XX XX             16\n",
       "CARTE XX XX CHEZ LUC XX                         16\n",
       "CARTE XX XX TOUPTIPRI XX                        12\n",
       "RETRAIT XX XX XX                                 9\n",
       "CARTE XX XX RAPT XX                              8\n",
       "DON XX XX XX XX XX XX XX                         7\n",
       "PRELEVEMENT XX TELEPHONE XX XX                   7\n",
       "VIREMENT XX XX XX XX XX XX XX XX XX XX XX XX     7\n",
       "CARTE XX XX LA LOUVE XX XX                       7\n",
       "FORFAIT COMPTE SUPERBANK XX XX XX XX             7\n",
       "XX XX VIREMENT XX XX XX                          6\n",
       "VIREMENT PERMANENT LOYER                         6\n",
       "VIREMENT XX XX XX XX XX XX XX                    5\n",
       "CARTE XX XX XX XX XX XX XX XX                    5\n",
       "CARTE XX XX VELOC XX XX                          4\n",
       "CARTE XX XX LA CCNCF XX XX                       4\n",
       "CARTE XX XX LA CCNCF XX                          3\n",
       "VIREMENT XX XX XX XX XX XX                       3\n",
       "CARTE XX XX XX XX XX XX XX                       2\n",
       "CARTE XX XX XX XX LA CCNCF XX                    2\n",
       "XX XX CARTE XX XX XX                             1\n",
       "PRELEVEMENT XX XX XX XX XX XX XX XX              1\n",
       "XX XX XX XX XX XX XX                             1\n",
       "CARTE XX XX XX XX XX XX XX XX XX XX              1\n",
       "VIREMENT XX XX XX XX XX XX XX XX XX              1\n",
       "VIREMENT XX XX XX XX XX XX XX XX XX XX           1\n",
       "Name: libelle, dtype: int64"
      ]
     },
     "execution_count": 7,
     "metadata": {},
     "output_type": "execute_result"
    }
   ],
   "source": [
    "data['libelle'].value_counts()"
   ]
  },
  {
   "cell_type": "markdown",
   "metadata": {},
   "source": [
    "Nous appellerons le mode de paiement le type d'opération. Ici, nous dirons que le restaurant est la catégorie de l'opération."
   ]
  },
  {
   "cell_type": "code",
   "execution_count": 8,
   "metadata": {},
   "outputs": [],
   "source": [
    "CATEGS = {\n",
    "    'LOYER': 'LOYER',\n",
    "    'FORFAIT COMPTE SUPERBANK': 'COTISATION BANCAIRE',\n",
    "    'LES ANCIENS ROBINSON': 'COURSES',\n",
    "    \"L'EPICERIE DENBAS\": 'COURSES',\n",
    "    'TELEPHONE': 'FACTURE TELEPHONE',\n",
    "    'LA CCNCF': 'TRANSPORT',\n",
    "    'CHEZ LUC': 'RESTAURANT',\n",
    "    'RAPT': 'TRANSPORT',\n",
    "    'TOUPTIPRI': 'COURSES',\n",
    "    'LA LOUVE': 'COURSES',\n",
    "    'VELOC': 'TRANSPORT'\n",
    "}\n",
    "TYPES = {\n",
    "    'CARTE': 'CARTE',\n",
    "    'VIR': 'VIREMENT',\n",
    "    'VIREMENT': 'VIREMENT',\n",
    "    'RETRAIT': 'RETRAIT',\n",
    "    'PRLV': 'PRELEVEMENT',\n",
    "    'DON': 'DON',\n",
    "}"
   ]
  },
  {
   "cell_type": "code",
   "execution_count": 9,
   "metadata": {},
   "outputs": [],
   "source": [
    "EXPENSES = [80,200] # Bornes des catégories de dépense : petite, moyenne et grosse\n",
    "LAST_BALANCE = 2400 # Solde du compte APRES la dernière opération en date\n",
    "WEEKEND = [\"Saturday\",\"Sunday\"] # Jours non travaillés"
   ]
  },
  {
   "cell_type": "code",
   "execution_count": 10,
   "metadata": {},
   "outputs": [],
   "source": [
    "# Controle des colonnes\n",
    "for c in ['date_operation','libelle','debit','credit']:\n",
    "    if c not in data.columns:\n",
    "        if (c in ['debit','credit'] and 'montant' not in data.columns) or \\\n",
    "        (c not in ['debit','credit']):\n",
    "            msg = \"Il vous manque la colonne '{}'. Attention aux majuscules \"\n",
    "            msg += \"et minuscules dans le nom des colonnes!\"\n",
    "            raise Exception(msg.format(c))\n",
    "\n",
    "# Suppression des colonnes innutiles\n",
    "for c in data.columns:\n",
    "    if c not in ['date_operation','libelle','debit','credit','montant']:\n",
    "        del data[c]\n",
    "\n",
    "# Ajout de la colonne 'montant' si besoin\n",
    "if 'montant' not in data.columns:\n",
    "    data[\"debit\"] = data[\"debit\"].fillna(0)\n",
    "    data[\"credit\"] = data[\"credit\"].fillna(0)\n",
    "    data[\"montant\"] = data[\"debit\"] + data[\"credit\"]\n",
    "    del data[\"credit\"], data[\"debit\"]\n",
    "\n",
    "# creation de la variable 'solde_avt_ope'\n",
    "data = data.sort_values(\"date_operation\")\n",
    "amount = data[\"montant\"]\n",
    "balance = amount.cumsum()\n",
    "balance = list(balance.values)\n",
    "last_val = balance[-1]\n",
    "balance = [0] + balance[:-1]\n",
    "balance = balance - last_val + LAST_BALANCE\n",
    "data[\"solde_avt_ope\"] = balance\n",
    "\n",
    "# Assignation des operations a une categorie et a un type\n",
    "def detect_words(values, dictionary):\n",
    "    result = []\n",
    "    for lib in values:\n",
    "        operation_type = \"AUTRE\"\n",
    "        for word, val in dictionary.items():\n",
    "            if word in lib:\n",
    "                operation_type = val\n",
    "        result.append(operation_type)\n",
    "    return result\n",
    "data[\"categ\"] = detect_words(data[\"libelle\"], CATEGS)\n",
    "data[\"type\"] = detect_words(data[\"libelle\"], TYPES)\n",
    "\n",
    "# creation des variables 'tranche_depense' et 'sens'\n",
    "def expense_slice(value):\n",
    "    value = -value # Les dépenses sont des nombres négatifs\n",
    "    if value < 0:\n",
    "        return \"(pas une dépense)\"\n",
    "    elif value < EXPENSES[0]:\n",
    "        return \"petite\"\n",
    "    elif value < EXPENSES[1]:\n",
    "        return \"moyenne\"\n",
    "    else:\n",
    "        return \"grosse\"\n",
    "data[\"tranche_depense\"] = data[\"montant\"].map(expense_slice)\n",
    "data[\"sens\"] = [\"credit\" if m > 0 else \"debit\" for m in data[\"montant\"]]\n",
    "\n",
    "# Creation des autres variables\n",
    "data[\"annee\"] = data[\"date_operation\"].map(lambda d: d.year)\n",
    "data[\"mois\"] = data[\"date_operation\"].map(lambda d: d.month)\n",
    "data[\"jour\"] = data[\"date_operation\"].map(lambda d: d.day)\n",
    "data[\"jour_sem\"] = data[\"date_operation\"].map(lambda d: d.day_name)\n",
    "data[\"jour_sem_num\"] = data[\"date_operation\"].map(lambda d: d.weekday()+1)\n",
    "data[\"weekend\"] = data[\"jour_sem\"].isin(WEEKEND)\n",
    "data[\"quart_mois\"] = [int((jour-1)*4/31)+1 for jour in data[\"jour\"]]\n",
    "        \n",
    "# Enregistrement au format CSV\n",
    "data.to_csv(\"operations_enrichies.csv\",index=False)"
   ]
  },
  {
   "cell_type": "code",
   "execution_count": null,
   "metadata": {},
   "outputs": [],
   "source": []
  }
 ],
 "metadata": {
  "kernelspec": {
   "display_name": "Python 3",
   "language": "python",
   "name": "python3"
  },
  "language_info": {
   "codemirror_mode": {
    "name": "ipython",
    "version": 3
   },
   "file_extension": ".py",
   "mimetype": "text/x-python",
   "name": "python",
   "nbconvert_exporter": "python",
   "pygments_lexer": "ipython3",
   "version": "3.8.3"
  }
 },
 "nbformat": 4,
 "nbformat_minor": 4
}
